{
 "cells": [
  {
   "cell_type": "markdown",
   "id": "8e8624a7",
   "metadata": {},
   "source": [
    "### COVID_GLOBAL_TRACKER"
   ]
  },
  {
   "cell_type": "code",
   "execution_count": 1,
   "id": "f2cb356d",
   "metadata": {},
   "outputs": [],
   "source": [
    "#import libraries\n",
    "import pandas as pd\n",
    "import matplotlib.pyplot as plt   #Data visualization\n",
    "import seaborn as sns    #Advanced data visualization"
   ]
  },
  {
   "cell_type": "markdown",
   "id": "c4bc733f-03b9-4579-8508-c0c26f58254b",
   "metadata": {},
   "source": [
    "## BASIC DATA PREVIEW AND ANALYSIS"
   ]
  },
  {
   "cell_type": "code",
   "execution_count": 2,
   "id": "ff8d0d1d",
   "metadata": {},
   "outputs": [
    {
     "name": "stdout",
     "output_type": "stream",
     "text": [
      "                          Entity ISO code        Date  \\\n",
      "0  Afghanistan - tests performed      AFG  2022-01-29   \n",
      "1  Afghanistan - tests performed      AFG  2022-01-30   \n",
      "2  Afghanistan - tests performed      AFG  2022-01-31   \n",
      "3  Afghanistan - tests performed      AFG  2022-02-01   \n",
      "4  Afghanistan - tests performed      AFG  2022-02-02   \n",
      "\n",
      "                                          Source URL  \\\n",
      "0  http://www.emro.who.int/images/stories/coronav...   \n",
      "1                                                NaN   \n",
      "2                                                NaN   \n",
      "3                                                NaN   \n",
      "4                                                NaN   \n",
      "\n",
      "                                        Source label Notes  Cumulative total  \\\n",
      "0  WHO Regional Office for the Eastern Mediterranean   NaN          853003.0   \n",
      "1                                                NaN   NaN               NaN   \n",
      "2                                                NaN   NaN               NaN   \n",
      "3                                                NaN   NaN               NaN   \n",
      "4                                                NaN   NaN               NaN   \n",
      "\n",
      "   Daily change in cumulative total  Cumulative total per thousand  \\\n",
      "0                               NaN                         21.272   \n",
      "1                               NaN                            NaN   \n",
      "2                               NaN                            NaN   \n",
      "3                               NaN                            NaN   \n",
      "4                               NaN                            NaN   \n",
      "\n",
      "   Daily change in cumulative total per thousand  7-day smoothed daily change  \\\n",
      "0                                            NaN                          NaN   \n",
      "1                                            NaN                          NaN   \n",
      "2                                            NaN                          NaN   \n",
      "3                                            NaN                          NaN   \n",
      "4                                            NaN                          NaN   \n",
      "\n",
      "   7-day smoothed daily change per thousand  Short-term positive rate  \\\n",
      "0                                       NaN                       NaN   \n",
      "1                                       NaN                       NaN   \n",
      "2                                       NaN                       NaN   \n",
      "3                                       NaN                       NaN   \n",
      "4                                       NaN                       NaN   \n",
      "\n",
      "   Short-term tests per case  \n",
      "0                        NaN  \n",
      "1                        NaN  \n",
      "2                        NaN  \n",
      "3                        NaN  \n",
      "4                        NaN  \n"
     ]
    }
   ],
   "source": [
    "#Loading the Data\n",
    "data = pd.read_csv('owid-covid-data.csv')\n",
    "\n",
    "# Preview rows\n",
    "print(data.head())"
   ]
  },
  {
   "cell_type": "code",
   "execution_count": 3,
   "id": "8bd10627",
   "metadata": {},
   "outputs": [
    {
     "name": "stdout",
     "output_type": "stream",
     "text": [
      "Index(['Entity', 'ISO code', 'Date', 'Source URL', 'Source label', 'Notes',\n",
      "       'Cumulative total', 'Daily change in cumulative total',\n",
      "       'Cumulative total per thousand',\n",
      "       'Daily change in cumulative total per thousand',\n",
      "       '7-day smoothed daily change',\n",
      "       '7-day smoothed daily change per thousand', 'Short-term positive rate',\n",
      "       'Short-term tests per case'],\n",
      "      dtype='object')\n",
      "Entity                                            object\n",
      "ISO code                                          object\n",
      "Date                                              object\n",
      "Source URL                                        object\n",
      "Source label                                      object\n",
      "Notes                                             object\n",
      "Cumulative total                                 float64\n",
      "Daily change in cumulative total                 float64\n",
      "Cumulative total per thousand                    float64\n",
      "Daily change in cumulative total per thousand    float64\n",
      "7-day smoothed daily change                      float64\n",
      "7-day smoothed daily change per thousand         float64\n",
      "Short-term positive rate                         float64\n",
      "Short-term tests per case                        float64\n",
      "dtype: object\n"
     ]
    }
   ],
   "source": [
    "# Check columns\n",
    "print(data.columns)\n",
    "\n",
    "#Preview column datatypes\n",
    "dtypes = data.dtypes\n",
    "print(dtypes)"
   ]
  },
  {
   "cell_type": "code",
   "execution_count": 4,
   "id": "aa7dedfa",
   "metadata": {},
   "outputs": [
    {
     "name": "stdout",
     "output_type": "stream",
     "text": [
      "       Cumulative total  Daily change in cumulative total  \\\n",
      "count      7.938700e+04                      7.540300e+04   \n",
      "mean       2.110457e+07                      6.728541e+04   \n",
      "std        8.409869e+07                      2.477340e+05   \n",
      "min        0.000000e+00                      1.000000e+00   \n",
      "25%        3.646540e+05                      2.244000e+03   \n",
      "50%        2.067330e+06                      8.783000e+03   \n",
      "75%        1.024845e+07                      3.722900e+04   \n",
      "max        9.214000e+09                      3.585563e+07   \n",
      "\n",
      "       Cumulative total per thousand  \\\n",
      "count                   79387.000000   \n",
      "mean                      924.254762   \n",
      "std                      2195.428504   \n",
      "min                         0.000000   \n",
      "25%                        43.585500   \n",
      "50%                       234.141000   \n",
      "75%                       894.374500   \n",
      "max                     32925.826000   \n",
      "\n",
      "       Daily change in cumulative total per thousand  \\\n",
      "count                                   75403.000000   \n",
      "mean                                        3.272466   \n",
      "std                                         9.033843   \n",
      "min                                         0.000000   \n",
      "25%                                         0.286000   \n",
      "50%                                         0.971000   \n",
      "75%                                         2.914000   \n",
      "max                                       531.062000   \n",
      "\n",
      "       7-day smoothed daily change  7-day smoothed daily change per thousand  \\\n",
      "count                 1.039650e+05                             103965.000000   \n",
      "mean                  1.421784e+05                                  2.826309   \n",
      "std                   1.138215e+06                                  7.308233   \n",
      "min                   0.000000e+00                                  0.000000   \n",
      "25%                   1.486000e+03                                  0.203000   \n",
      "50%                   6.570000e+03                                  0.851000   \n",
      "75%                   3.220500e+04                                  2.584000   \n",
      "max                   1.476998e+07                                147.603000   \n",
      "\n",
      "       Short-term positive rate  Short-term tests per case  \n",
      "count              95927.000000               9.434800e+04  \n",
      "mean                   0.098163               2.403633e+03  \n",
      "std                    0.115978               3.344366e+04  \n",
      "min                    0.000000               1.000000e+00  \n",
      "25%                    0.017000               7.100000e+00  \n",
      "50%                    0.055000               1.750000e+01  \n",
      "75%                    0.138100               5.460000e+01  \n",
      "max                    1.000000               1.023632e+06  \n",
      "Entity                                               0\n",
      "ISO code                                             0\n",
      "Date                                                 0\n",
      "Source URL                                       25147\n",
      "Source label                                     25142\n",
      "Notes                                            93411\n",
      "Cumulative total                                 27401\n",
      "Daily change in cumulative total                 31385\n",
      "Cumulative total per thousand                    27401\n",
      "Daily change in cumulative total per thousand    31385\n",
      "7-day smoothed daily change                       2823\n",
      "7-day smoothed daily change per thousand          2823\n",
      "Short-term positive rate                         10861\n",
      "Short-term tests per case                        12440\n",
      "dtype: int64\n"
     ]
    }
   ],
   "source": [
    "#Data description\n",
    "print(data.describe())\n",
    "\n",
    "# Identify missing values\n",
    "print(data.isnull().sum())"
   ]
  },
  {
   "cell_type": "markdown",
   "id": "9c9e42cb-e961-4f46-a843-9b68d7b0a7a4",
   "metadata": {},
   "source": [
    "## DATA CLEANING"
   ]
  },
  {
   "cell_type": "code",
   "execution_count": 7,
   "id": "b4b981d5-6ca4-4d04-a641-2572d5323ba8",
   "metadata": {},
   "outputs": [],
   "source": [
    "# Filter countries of interest (e.g., Kenya, USA, India)\n",
    "countries_of_interest = ['Kenya', 'USA', 'India']\n",
    "data_filtered = data[data['Entity'].isin(countries_of_interest)]\n",
    "\n",
    "# Drop rows with missing dates/critical values\n",
    "data_cleaned = data_filtered.dropna(subset=['Date'])\n",
    "\n",
    "# Convert date column to datetime\n",
    "data_cleaned['date'] = pd.to_datetime(data_cleaned['Date'])\n",
    "\n",
    "# Handle missing numeric values with fillna() or interpolate()\n",
    "#data_cleaned.fillna(method='obj.ffill() ', inplace=True)"
   ]
  },
  {
   "cell_type": "code",
   "execution_count": 9,
   "id": "92435df8-d2dc-472d-ae9d-5b8c1eefc72e",
   "metadata": {},
   "outputs": [
    {
     "name": "stdout",
     "output_type": "stream",
     "text": [
      "Empty DataFrame\n",
      "Columns: [Entity, ISO code, Date, Source URL, Source label, Notes, Cumulative total, Daily change in cumulative total, Cumulative total per thousand, Daily change in cumulative total per thousand, 7-day smoothed daily change, 7-day smoothed daily change per thousand, Short-term positive rate, Short-term tests per case]\n",
      "Index: []\n"
     ]
    }
   ],
   "source": [
    "print(data_filtered)"
   ]
  }
 ],
 "metadata": {
  "kernelspec": {
   "display_name": "Python [conda env:base]",
   "language": "python",
   "name": "conda-base-py"
  },
  "language_info": {
   "codemirror_mode": {
    "name": "ipython",
    "version": 3
   },
   "file_extension": ".py",
   "mimetype": "text/x-python",
   "name": "python",
   "nbconvert_exporter": "python",
   "pygments_lexer": "ipython3",
   "version": "3.12.7"
  }
 },
 "nbformat": 4,
 "nbformat_minor": 5
}
